{
 "cells": [
  {
   "cell_type": "code",
   "execution_count": 1,
   "metadata": {
    "collapsed": true
   },
   "outputs": [],
   "source": [
    "from bs4 import BeautifulSoup\n",
    "import requests"
   ]
  },
  {
   "cell_type": "code",
   "execution_count": 53,
   "metadata": {},
   "outputs": [],
   "source": [
    "# i'm use content http://internasional.metrotvnews.com/asia/RkjPoE6N-penjelasan-kemenlu-soal-tki-ilegal-ditahan-di-malaysia\n",
    "def interMetro():\n",
    "    page = requests.get('http://internasional.metrotvnews.com/asia/RkjPoE6N-penjelasan-kemenlu-soal-tki-ilegal-ditahan-di-malaysia')\n",
    "    soup = BeautifulSoup(page.content, \"html.parser\")\n",
    "    \n",
    "    artikels = soup.find_all('div', {'class': 'detail'})\n",
    "    for z in artikels:\n",
    "        title = z.find('h1').getText()\n",
    "        content = z.find('div',{'class':'tru'}).getText()\n",
    "        print \"Title = \", title.strip()\n",
    "        print \"Content = \", content.strip()\n",
    "        # if you use python 3, comment above and uncomment below\n",
    "        # print (\"Title = \", title.strip())\n",
    "        # print (\"Content = \", content.strip())"
   ]
  },
  {
   "cell_type": "code",
   "execution_count": 54,
   "metadata": {},
   "outputs": [
    {
     "name": "stdout",
     "output_type": "stream",
     "text": [
      "Title =  Penjelasan Kemenlu soal TKI Ilegal Ditahan di Malaysia\n",
      "Content =  Metrotvnews.com, Jakarta: Imigrasi Malaysia kini sudah menahan sekitar 350 Pendatang Asing Tanpa Izin (PATI) asal Indonesia yang diketahui tidak mengikuti program rehiring dengan E-kad. \n",
      " \n",
      "Direktur Perlindungan Warga Negara Indonesia (WNI) dan Badan Hukum Indonesia Kementerian Luar Negeri RI, Lalu Muhamad Iqbal menjawab berbagai spekulasi yang bermunculan soal kasus ini, terutama soal masih banyaknya pekerja asal Indonesia yang masuk ke Malaysia tanpa izin.\n",
      " \n",
      "Berikut wawancara eksklusif Metrotvnews.com, di Kantor Kementerian Luar Negeri RI di Jakarta, Jumat 7 Juli 2017, dengan Iqbal mengenai pekerja asing asal Indonesia di Malaysia:\n",
      " \n",
      "Sebenarnya, berapa jumlah pasti TKI ilegal yang ditahan hingga sekarang?\n",
      " \n",
      "Sampai saat ini, jumlah keseluruhan itu ada 2.600 yang ditangkap oleh Imigrasi Malaysia, sejak berakhirnya program pendaftaran E-Kad. Sekitar 800 itu dari Bangladesh dan sisanya campuran serta ada WNI. Kalau WNI sekitar 350 yang ditangkap. \n",
      " \n",
      "Saat ini mereka berada di mana?\n",
      " \n",
      "Mereka ada di detensi, dan KBRI Kuala Lumpur sudah dapat komitmen untuk mendapat akses konsuler ke semua depo imigrasi. Kita sudah kirim nota diplomatik untuk ases konsuler sejak 30 Juni kemarin. Kita juga sudah dapat komitmen dari Imigrasi Malaysia bahwa kita diberikan akses. Kita bisa pastikan mereka yang ditahan dalam kondisi baik dan dapat perlakuan baik sampai mereka dideportasi nantinya.\n",
      " \n",
      "KBRI Kuala Lumpur juga sudah ketemu dan sudah ada akses. Kita juga sudah mendapatkan update rutin soal jumlah yang ditangkap. Jumlahnya juga jauh lebih kecil dari pada WN Bangladesh.\n",
      " \n",
      "Namun, karena ini lewat mekanisme deportasi yang bukan sukarela, maka mereka akan melalui proses hukum. Mereka akan dibawa ke imigration court lalu dipulangkan ke Indonesia setelah diputuskan bersalah oleh pihak pengadilan.\n",
      " \n",
      "Proses hukumnya seperti apa?\n",
      " \n",
      "Mereka ditangkap dan proses penyidikan dua minggu, lalu akan dijatuhi hukuman tiga sampai enam bulan tergantung berapa lama mereka menjadi pendatang ilegal. \n",
      " \n",
      "Hukuman yang diputuskan dapat potongan sepertiga. Misalnya enam bulan jadi dikurangi paling ya jadi empat bulan. Setelah itu mereka akan dideportasi. Sebenarnya, jangka waktunya juga lama karena harus menunggu kapal. Tapi untuk pekerja ilegal, maksimal hukuman enam bulan.\n",
      " \n",
      "Alur untuk pembuatan E-Kad ini seperti apa prosesnya?\n",
      " \n",
      "Kita harus lihat program ini sebagai bagian dari proses panjang. Pada 2014, kita sudah dapat keuhan soal TKI kita yang mau ikut program rehiring tapi banyak menjadi korban calo, sampai jumlahnya ratusan. \n",
      " \n",
      "Kalau mereka hanya gagal rehiring saja tidak apa, tapi ini sudah gagal rehiring ditambah kehilangan uang. Calonya sendiri itu juga orang Indonesia. \n",
      " \n",
      "Kemudian kita sampaikan concern itu bahkan Menlu sampai komunikasi langsung dengan Menlu Malaysia. Keluarlah dengan solusi melalui penunjukkan vendor, jadi pihak swasta ditunjuk untuk menghindari percaloan tadi.\n",
      " \n",
      "Kemudian kita dapat komplain lagi di mana penunjukkan vendor ini selain monopolistik tapi juga mahal. Pak Hermono yang waktu itu jadi Wadubes Kuala Lumpur melakukan pendekatan untuk menekan cost yang ditetapkan pihak swasta ini. Lalu turun tiga kali dari angka awal, jadi jauh lebih murah daripada saat diluncurkan pertama kali. \n",
      " \n",
      "Setelah itu ada komplain lagi dari WNI kita, untuk ikut E-Kad ini, pemerintah kita sulit keluarkan paspor untuk mereka yang mendaftar program rehiring ini, karena tidak ada identitas yang mereka miliki di sana atau status hukum di sana.\n",
      " \n",
      "Karena UU kita mewajibkan kita hanya bisa keluarkan paspor kalau ada ada izin tinggal atau izin kerja. Makanya dideveloplah E-Kad ini.\n",
      " \n",
      "Program ini adalah proses panjang sampai diadakan. Lalu Februari, mereka mengumumkan bahwa mereka akan mengadakan program rehiring yang baru dengan memberikan E-Kad gratis untuk menunjukkan orang ini udah mendaftar di rehiring. \n",
      " \n",
      "Re-hiring sendiri sebetulnya berakhir 31 Desember 2017. Jadi panjang sebenarnya. Tapi kalau mau ikut harus punya E-Kad dulu. Nah yang mendaftarkan itu harusnya majikan.\n",
      " \n",
      "Untuk merespon itu, KBRI Kuala Lumpur sudah siapkan line khusus untuk WNI ikut rehiring. Dari pusat kami kirmkan tiga gelombang di dalamnya ada tim bantuan teknis, 1 tim 10 orang gabungan Kemenlu dan imigrasi untuk mempermudah prosesnya. Namun, animonya tetap rendah.\n",
      " \n",
      "Faktor apa saja yang membuat WNI tidak bisa ikut program E-kad?\n",
      " \n",
      "Nah ini yang harus dipahami adalah, satu, yang harus daftarin itu harusnya majikan. Kenapa majikan tidak mendaftarkan mereka? Itu harus ditanyakan ke Malaysia. Malaysia harus mendorong majikan untuk mendaftarkan pekerja ilegalnya.\n",
      " \n",
      "Kedua, WNI kita banyak yang masuk ke Malaysia lewat jalur tikus. Karena mereka ilegal, datanya tidak ada di Imigrasi Malaysia, ya jadinya tidak bisa ikut program ini. \n",
      " \n",
      "Ketiga, banyak WNI kita yang tidak memiliki majikan tetap. Ganti-ganti tidak jelas jadi tidak tahu majikan mana yang harus mendaftarkan mereka.\n",
      " \n",
      "Begitu banyaknya TKI ilegal yang masuk ke Malaysia, tindakan seperti apa yang Kemenlu lakukan?\n",
      " \n",
      "Untuk masalah kepergian mereka, itu bukan otoritas Kemenlu. Intinya melakukan rehiring ini adalah tindakan kuratif. Sudah ada problemnya. Fokusnya sekarang preventif di Malaysia dan Indonesia.\n",
      " \n",
      "Kita di Indonesia mencegah orang masuk ke Malaysia secara ilegal seperti pengetatan border, kegiatan sosialisasi, dan penyadaran publik. Tak hanya Kemenlu, tapi semua pihak. \n",
      " \n",
      "Jadi kita harap, kita di sini mencegah orang ilegal keluar, Malaysia juga mencegah orang ilegal masuk.\n",
      " (FJR)\n"
     ]
    }
   ],
   "source": [
    " interMetro()"
   ]
  },
  {
   "cell_type": "code",
   "execution_count": 55,
   "metadata": {
    "collapsed": true
   },
   "outputs": [],
   "source": [
    "# i'm use content https://metro.tempo.co/read/news/2017/07/07/083889609/djarot-pastikan-kjp-tak-bisa-ditarik-tunai-hingga-desember\n",
    "def metroTempo():\n",
    "    page = requests.get('https://metro.tempo.co/read/news/2017/07/07/083889609/djarot-pastikan-kjp-tak-bisa-ditarik-tunai-hingga-desember')\n",
    "    soup = BeautifulSoup(page.content, \"lxml\")\n",
    "    \n",
    "    artikels = soup.find_all('div', {'class': 'artikel'})\n",
    "    for z in artikels:\n",
    "        title = z.find('h1').getText()\n",
    "        content = z.find('p').getText()\n",
    "        print \"Title = \", title.strip()\n",
    "        print \"Content = \", content.strip()\n",
    "        # if you use python 3, comment above and uncomment below\n",
    "        # print (\"Title = \", title.strip())\n",
    "        # print (\"Content = \", content.strip())"
   ]
  },
  {
   "cell_type": "code",
   "execution_count": 56,
   "metadata": {},
   "outputs": [
    {
     "name": "stdout",
     "output_type": "stream",
     "text": [
      "Title =  Djarot Pastikan KJP Tak Bisa Ditarik Tunai hingga Desember\n",
      "Content =  TEMPO.CO, Jakarta - Gubernur DKI Jakarta Djarot Saiful Hidayat menegaskan, dana bantuan dalam bentuk Kartu Jakarta Pintar (KJP) tidak bisa dicairkan dalam bentuk uang tunai. Djarot menuturkan keputusan tersebut disepakati dalam rangka menekan angka kecurangan dalam penggunaan anggarannya.  \"Kami sepakati dalam pergub (peraturan gubernur)-nya sampai Desember itu cashless. Bahkan kami akan menelusuri betul. Siapa yang tarik tunai, akan kami cabut (bantuannya),\" ujar Djarot di Balai Kota Jakarta, Jumat, 7 Juli 2017.  Pemerintah Provinsi DKI Jakarta menargetkan pendistribusian KJP rampung hingga akhir bulan ini. Setidaknya masih ada 9.000 KJP yang belum didistribusikan kepada warga Jakarta. Pendistribusian KJP akan dilakukan dengan menggandeng Bank DKI.  Baca juga: KJP Bisa Tarik Tunai, Ahok: Kemunduran bagi Kota Jakarta  Djarot menuturkan selama ini penggunaan KJP banyak digunakan atas dasar kemauan orang tua siswa, bukan kebutuhan sekolah. Dengan begitu, dia akan terus menekankan pemberian bantuan KJP harus dilakukan secara nontunai. Djarot juga meminta dukungan orang tua untuk menyukseskan program KJP.  \"Tolong para orang tua mendukung. Toh, sekarang KJP bisa digunakan untuk membeli kebutuhan pokok. Setiap bulan dia bisa beli daging dan telur. Jangan diuangkan. Kalau diuangkan, enggak bisa kami kontrol,\" ujar Djarot.  Selain itu, Djarot menuturkan, dia akan menerapkan sistem nontunai untuk penyaluran dana bantuan sosial (bansos) lain. Sehingga pungutan liar dan korupsi dapat diminimalkan. \"Kalau (pembayaran) seperti ini (nanti) gampang ketahuan, nanti tinggal kami pecat. Selesai,\" ujar Djarot.  Baca juga: Anies Sebut Anggaran KJP Plus 2018 Tak Jauh Beda dengan KJP 2017   Djarot mengatakan penganggaran pemerintah daerah masih berlaku hingga akhir Desember. Dengan begitu, dia memastikan, penyaluran KJP hingga akhir tahun ini dalam bentuk nontunai. \"Saya berharap pengelolaan sistem nontunai ini tetap. Karena sudah menjadi contoh, termasuk pengelolaan APBD,\" kata Djarot.  Masa tugas Djarot akan berakhir pada Oktober 2017. Adapun penggantinya, Anies Baswedan-Sandiaga Uno, dalam kampanye menjanjikan dana KJP bisa ditarik tunai. Program KJP Plus tersebut sebelumnya dikhawatirkan inkumben saat itu, Basuki Tjahaja Purnama atau Ahok, akan menimbulkan kebocoran anggaran.  Namun Sandiaga Uno mengatakan punya cara untuk menangkal kebocoran. \"Nanti kami akan cari teman-teman dari Pokja (kelompok kerja) agar tidak akan ada kebocoran,\" ujarnya, Kamis, 6 Juli 2017.  LARISSA HUDA | CHITRA P. | JH\n"
     ]
    }
   ],
   "source": [
    "metroTempo()"
   ]
  },
  {
   "cell_type": "code",
   "execution_count": null,
   "metadata": {
    "collapsed": true
   },
   "outputs": [],
   "source": []
  }
 ],
 "metadata": {
  "kernelspec": {
   "display_name": "Python 2",
   "language": "python",
   "name": "python2"
  },
  "language_info": {
   "codemirror_mode": {
    "name": "ipython",
    "version": 2
   },
   "file_extension": ".py",
   "mimetype": "text/x-python",
   "name": "python",
   "nbconvert_exporter": "python",
   "pygments_lexer": "ipython2",
   "version": "2.7.13"
  }
 },
 "nbformat": 4,
 "nbformat_minor": 2
}
